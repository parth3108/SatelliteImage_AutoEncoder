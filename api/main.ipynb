{
 "cells": [
  {
   "cell_type": "code",
   "execution_count": 1,
   "metadata": {},
   "outputs": [],
   "source": [
    "from library import sateval\n",
    "\n",
    "\n",
    "se = sateval.SatEval(\"dataset\")"
   ]
  },
  {
   "cell_type": "code",
   "execution_count": 3,
   "metadata": {},
   "outputs": [
    {
     "name": "stderr",
     "output_type": "stream",
     "text": [
      "  5%|▌         | 2/40 [00:00<00:05,  6.91it/s]"
     ]
    },
    {
     "name": "stdout",
     "output_type": "stream",
     "text": [
      "{\"success\": 1, \"failed\": 0, \"total\": 40}\n",
      "{\"success\": 2, \"failed\": 0, \"total\": 40}\n"
     ]
    },
    {
     "name": "stderr",
     "output_type": "stream",
     "text": [
      " 10%|█         | 4/40 [00:00<00:04,  7.49it/s]"
     ]
    },
    {
     "name": "stdout",
     "output_type": "stream",
     "text": [
      "{\"success\": 3, \"failed\": 0, \"total\": 40}\n",
      "{\"success\": 4, \"failed\": 0, \"total\": 40}\n"
     ]
    },
    {
     "name": "stderr",
     "output_type": "stream",
     "text": [
      " 15%|█▌        | 6/40 [00:00<00:04,  7.67it/s]"
     ]
    },
    {
     "name": "stdout",
     "output_type": "stream",
     "text": [
      "{\"success\": 5, \"failed\": 0, \"total\": 40}\n",
      "{\"success\": 6, \"failed\": 0, \"total\": 40}\n"
     ]
    },
    {
     "name": "stderr",
     "output_type": "stream",
     "text": [
      " 20%|██        | 8/40 [00:01<00:04,  7.22it/s]"
     ]
    },
    {
     "name": "stdout",
     "output_type": "stream",
     "text": [
      "{\"success\": 7, \"failed\": 0, \"total\": 40}\n",
      "{\"success\": 8, \"failed\": 0, \"total\": 40}\n"
     ]
    },
    {
     "name": "stderr",
     "output_type": "stream",
     "text": [
      " 25%|██▌       | 10/40 [00:01<00:03,  7.58it/s]"
     ]
    },
    {
     "name": "stdout",
     "output_type": "stream",
     "text": [
      "{\"success\": 9, \"failed\": 0, \"total\": 40}\n",
      "{\"success\": 10, \"failed\": 0, \"total\": 40}\n"
     ]
    },
    {
     "name": "stderr",
     "output_type": "stream",
     "text": [
      " 30%|███       | 12/40 [00:01<00:03,  7.61it/s]"
     ]
    },
    {
     "name": "stdout",
     "output_type": "stream",
     "text": [
      "{\"success\": 11, \"failed\": 0, \"total\": 40}\n",
      "{\"success\": 12, \"failed\": 0, \"total\": 40}\n"
     ]
    },
    {
     "name": "stderr",
     "output_type": "stream",
     "text": [
      " 35%|███▌      | 14/40 [00:01<00:03,  6.75it/s]"
     ]
    },
    {
     "name": "stdout",
     "output_type": "stream",
     "text": [
      "{\"success\": 13, \"failed\": 0, \"total\": 40}\n",
      "{\"success\": 14, \"failed\": 0, \"total\": 40}\n"
     ]
    },
    {
     "name": "stderr",
     "output_type": "stream",
     "text": [
      " 40%|████      | 16/40 [00:02<00:03,  7.08it/s]"
     ]
    },
    {
     "name": "stdout",
     "output_type": "stream",
     "text": [
      "{\"success\": 15, \"failed\": 0, \"total\": 40}\n",
      "{\"success\": 16, \"failed\": 0, \"total\": 40}\n"
     ]
    },
    {
     "name": "stderr",
     "output_type": "stream",
     "text": [
      " 45%|████▌     | 18/40 [00:02<00:02,  7.35it/s]"
     ]
    },
    {
     "name": "stdout",
     "output_type": "stream",
     "text": [
      "{\"success\": 17, \"failed\": 0, \"total\": 40}\n",
      "{\"success\": 18, \"failed\": 0, \"total\": 40}\n"
     ]
    },
    {
     "name": "stderr",
     "output_type": "stream",
     "text": [
      " 50%|█████     | 20/40 [00:02<00:02,  7.72it/s]"
     ]
    },
    {
     "name": "stdout",
     "output_type": "stream",
     "text": [
      "{\"success\": 19, \"failed\": 0, \"total\": 40}\n",
      "{\"success\": 20, \"failed\": 0, \"total\": 40}\n"
     ]
    },
    {
     "name": "stderr",
     "output_type": "stream",
     "text": [
      " 55%|█████▌    | 22/40 [00:02<00:02,  7.63it/s]"
     ]
    },
    {
     "name": "stdout",
     "output_type": "stream",
     "text": [
      "{\"success\": 21, \"failed\": 0, \"total\": 40}\n",
      "{\"success\": 22, \"failed\": 0, \"total\": 40}\n"
     ]
    },
    {
     "name": "stderr",
     "output_type": "stream",
     "text": [
      " 60%|██████    | 24/40 [00:03<00:02,  7.65it/s]"
     ]
    },
    {
     "name": "stdout",
     "output_type": "stream",
     "text": [
      "{\"success\": 23, \"failed\": 0, \"total\": 40}\n",
      "{\"success\": 24, \"failed\": 0, \"total\": 40}\n"
     ]
    },
    {
     "name": "stderr",
     "output_type": "stream",
     "text": [
      " 65%|██████▌   | 26/40 [00:03<00:01,  7.55it/s]"
     ]
    },
    {
     "name": "stdout",
     "output_type": "stream",
     "text": [
      "{\"success\": 25, \"failed\": 0, \"total\": 40}\n",
      "{\"success\": 26, \"failed\": 0, \"total\": 40}\n"
     ]
    },
    {
     "name": "stderr",
     "output_type": "stream",
     "text": [
      " 70%|███████   | 28/40 [00:03<00:01,  6.98it/s]"
     ]
    },
    {
     "name": "stdout",
     "output_type": "stream",
     "text": [
      "{\"success\": 27, \"failed\": 0, \"total\": 40}\n",
      "{\"success\": 28, \"failed\": 0, \"total\": 40}\n"
     ]
    },
    {
     "name": "stderr",
     "output_type": "stream",
     "text": [
      " 75%|███████▌  | 30/40 [00:04<00:01,  7.13it/s]"
     ]
    },
    {
     "name": "stdout",
     "output_type": "stream",
     "text": [
      "{\"success\": 29, \"failed\": 0, \"total\": 40}\n",
      "{\"success\": 30, \"failed\": 0, \"total\": 40}\n"
     ]
    },
    {
     "name": "stderr",
     "output_type": "stream",
     "text": [
      " 80%|████████  | 32/40 [00:04<00:01,  7.17it/s]"
     ]
    },
    {
     "name": "stdout",
     "output_type": "stream",
     "text": [
      "{\"success\": 31, \"failed\": 0, \"total\": 40}\n",
      "{\"success\": 32, \"failed\": 0, \"total\": 40}\n"
     ]
    },
    {
     "name": "stderr",
     "output_type": "stream",
     "text": [
      " 85%|████████▌ | 34/40 [00:04<00:00,  7.07it/s]"
     ]
    },
    {
     "name": "stdout",
     "output_type": "stream",
     "text": [
      "{\"success\": 33, \"failed\": 0, \"total\": 40}\n",
      "{\"success\": 34, \"failed\": 0, \"total\": 40}\n"
     ]
    },
    {
     "name": "stderr",
     "output_type": "stream",
     "text": [
      " 90%|█████████ | 36/40 [00:04<00:00,  7.23it/s]"
     ]
    },
    {
     "name": "stdout",
     "output_type": "stream",
     "text": [
      "{\"success\": 35, \"failed\": 0, \"total\": 40}\n",
      "{\"success\": 36, \"failed\": 0, \"total\": 40}\n"
     ]
    },
    {
     "name": "stderr",
     "output_type": "stream",
     "text": [
      " 95%|█████████▌| 38/40 [00:05<00:00,  7.51it/s]"
     ]
    },
    {
     "name": "stdout",
     "output_type": "stream",
     "text": [
      "{\"success\": 37, \"failed\": 0, \"total\": 40}\n",
      "{\"success\": 38, \"failed\": 0, \"total\": 40}\n"
     ]
    },
    {
     "name": "stderr",
     "output_type": "stream",
     "text": [
      "100%|██████████| 40/40 [00:05<00:00,  7.35it/s]"
     ]
    },
    {
     "name": "stdout",
     "output_type": "stream",
     "text": [
      "{\"success\": 39, \"failed\": 0, \"total\": 40}\n",
      "{\"success\": 40, \"failed\": 0, \"total\": 40}\n"
     ]
    },
    {
     "name": "stderr",
     "output_type": "stream",
     "text": [
      "\n"
     ]
    }
   ],
   "source": [
    "for chunk in se.simulated_noise_injector.add_gaussian_noise(\n",
    "    \"/Users/yashpulse/Desktop/Swinburne/Semester 4/TAP/CH1/api/data/dataset/CompressedImages\",\n",
    "    \"jpg\",\n",
    "    \"/Users/yashpulse/Desktop/Swinburne/Semester 4/TAP/CH1/api/data/dataset/NoisyImages\",\n",
    "    1,\n",
    "    0.01,\n",
    "    \"21-05-2021\"\n",
    "):\n",
    "    print(chunk)"
   ]
  },
  {
   "cell_type": "code",
   "execution_count": 3,
   "metadata": {},
   "outputs": [
    {
     "data": {
      "text/plain": [
       "{'compress_jpeg': {'type': method,\n",
       "  'parameters': {'input_path': str, 'output_folder': str, 'quality': int}},\n",
       " 'compress_png': {'type': method,\n",
       "  'parameters': {'input_path': str, 'output_folder': str, 'quality': int}}}"
      ]
     },
     "execution_count": 3,
     "metadata": {},
     "output_type": "execute_result"
    }
   ],
   "source": [
    "se.configurables.get_methods(se,\"compressor\")"
   ]
  },
  {
   "cell_type": "code",
   "execution_count": 7,
   "metadata": {},
   "outputs": [
    {
     "name": "stdout",
     "output_type": "stream",
     "text": [
      "[(1, 'PocImages.zip', '/Users/yashpulse/Library/CloudStorage/OneDrive-SwinburneUniversity/Semester 4/TAP/CH1/api/data/dataset/PocImages.zip')]\n"
     ]
    }
   ],
   "source": [
    "import sqlite3\n",
    "\n",
    "\n",
    "conn = sqlite3.connect('sateval.db')\n",
    "\n",
    "c = conn.cursor()\n",
    "\n",
    "print(c.execute(\"SELECT * FROM datasets\").fetchall())\n",
    "c.close()"
   ]
  },
  {
   "cell_type": "code",
   "execution_count": 8,
   "metadata": {},
   "outputs": [
    {
     "name": "stdout",
     "output_type": "stream",
     "text": [
      "[(1, '/Users/yashpulse/Library/CloudStorage/OneDrive-SwinburneUniversity/Semester 4/TAP/CH1/api/data/dataset/PocImages.zip', '/Users/yashpulse/Library/CloudStorage/OneDrive-SwinburneUniversity/Semester 4/TAP/CH1/api/data/dataset/PocImages')]\n"
     ]
    }
   ],
   "source": [
    "c = conn.cursor()\n",
    "\n",
    "print(c.execute(\"SELECT * FROM image_data\").fetchall())\n",
    "c.close()"
   ]
  },
  {
   "cell_type": "code",
   "execution_count": 22,
   "metadata": {},
   "outputs": [
    {
     "name": "stdout",
     "output_type": "stream",
     "text": [
      "{\"success\": 1, \"failed\": 0, \"total\": 40\n",
      "{\"success\": 2, \"failed\": 0, \"total\": 40\n",
      "{\"success\": 3, \"failed\": 0, \"total\": 40\n",
      "{\"success\": 4, \"failed\": 0, \"total\": 40\n",
      "{\"success\": 5, \"failed\": 0, \"total\": 40\n",
      "{\"success\": 6, \"failed\": 0, \"total\": 40\n",
      "{\"success\": 7, \"failed\": 0, \"total\": 40\n",
      "{\"success\": 8, \"failed\": 0, \"total\": 40\n",
      "{\"success\": 9, \"failed\": 0, \"total\": 40\n",
      "{\"success\": 10, \"failed\": 0, \"total\": 40\n",
      "{\"success\": 11, \"failed\": 0, \"total\": 40\n",
      "{\"success\": 12, \"failed\": 0, \"total\": 40\n",
      "{\"success\": 13, \"failed\": 0, \"total\": 40\n",
      "{\"success\": 14, \"failed\": 0, \"total\": 40\n",
      "{\"success\": 15, \"failed\": 0, \"total\": 40\n",
      "{\"success\": 16, \"failed\": 0, \"total\": 40\n",
      "{\"success\": 17, \"failed\": 0, \"total\": 40\n",
      "{\"success\": 18, \"failed\": 0, \"total\": 40\n",
      "{\"success\": 19, \"failed\": 0, \"total\": 40\n",
      "{\"success\": 20, \"failed\": 0, \"total\": 40\n",
      "{\"success\": 21, \"failed\": 0, \"total\": 40\n",
      "{\"success\": 22, \"failed\": 0, \"total\": 40\n",
      "{\"success\": 23, \"failed\": 0, \"total\": 40\n",
      "{\"success\": 24, \"failed\": 0, \"total\": 40\n",
      "{\"success\": 25, \"failed\": 0, \"total\": 40\n",
      "{\"success\": 26, \"failed\": 0, \"total\": 40\n",
      "{\"success\": 27, \"failed\": 0, \"total\": 40\n",
      "{\"success\": 28, \"failed\": 0, \"total\": 40\n",
      "{\"success\": 29, \"failed\": 0, \"total\": 40\n",
      "{\"success\": 30, \"failed\": 0, \"total\": 40\n",
      "{\"success\": 31, \"failed\": 0, \"total\": 40\n",
      "{\"success\": 32, \"failed\": 0, \"total\": 40\n",
      "{\"success\": 33, \"failed\": 0, \"total\": 40\n",
      "{\"success\": 34, \"failed\": 0, \"total\": 40\n",
      "{\"success\": 35, \"failed\": 0, \"total\": 40\n",
      "{\"success\": 36, \"failed\": 0, \"total\": 40\n",
      "{\"success\": 37, \"failed\": 0, \"total\": 40\n",
      "{\"success\": 38, \"failed\": 0, \"total\": 40\n",
      "{\"success\": 39, \"failed\": 0, \"total\": 40\n",
      "{\"success\": 40, \"failed\": 0, \"total\": 40\n",
      "{\"success\": 1, \"failed\": 0, \"total\": 40\n",
      "{\"success\": 2, \"failed\": 0, \"total\": 40\n",
      "{\"success\": 3, \"failed\": 0, \"total\": 40\n",
      "{\"success\": 4, \"failed\": 0, \"total\": 40\n",
      "{\"success\": 5, \"failed\": 0, \"total\": 40\n",
      "{\"success\": 6, \"failed\": 0, \"total\": 40\n",
      "{\"success\": 7, \"failed\": 0, \"total\": 40\n",
      "{\"success\": 8, \"failed\": 0, \"total\": 40\n",
      "{\"success\": 9, \"failed\": 0, \"total\": 40\n",
      "{\"success\": 10, \"failed\": 0, \"total\": 40\n",
      "{\"success\": 11, \"failed\": 0, \"total\": 40\n",
      "{\"success\": 12, \"failed\": 0, \"total\": 40\n",
      "{\"success\": 13, \"failed\": 0, \"total\": 40\n",
      "{\"success\": 14, \"failed\": 0, \"total\": 40\n",
      "{\"success\": 15, \"failed\": 0, \"total\": 40\n",
      "{\"success\": 16, \"failed\": 0, \"total\": 40\n",
      "{\"success\": 17, \"failed\": 0, \"total\": 40\n",
      "{\"success\": 18, \"failed\": 0, \"total\": 40\n",
      "{\"success\": 19, \"failed\": 0, \"total\": 40\n",
      "{\"success\": 20, \"failed\": 0, \"total\": 40\n",
      "{\"success\": 21, \"failed\": 0, \"total\": 40\n",
      "{\"success\": 22, \"failed\": 0, \"total\": 40\n",
      "{\"success\": 23, \"failed\": 0, \"total\": 40\n",
      "{\"success\": 24, \"failed\": 0, \"total\": 40\n",
      "{\"success\": 25, \"failed\": 0, \"total\": 40\n",
      "{\"success\": 26, \"failed\": 0, \"total\": 40\n",
      "{\"success\": 27, \"failed\": 0, \"total\": 40\n",
      "{\"success\": 28, \"failed\": 0, \"total\": 40\n",
      "{\"success\": 29, \"failed\": 0, \"total\": 40\n",
      "{\"success\": 30, \"failed\": 0, \"total\": 40\n",
      "{\"success\": 31, \"failed\": 0, \"total\": 40\n",
      "{\"success\": 32, \"failed\": 0, \"total\": 40\n",
      "{\"success\": 33, \"failed\": 0, \"total\": 40\n",
      "{\"success\": 34, \"failed\": 0, \"total\": 40\n",
      "{\"success\": 35, \"failed\": 0, \"total\": 40\n",
      "{\"success\": 36, \"failed\": 0, \"total\": 40\n",
      "{\"success\": 37, \"failed\": 0, \"total\": 40\n",
      "{\"success\": 38, \"failed\": 0, \"total\": 40\n",
      "{\"success\": 39, \"failed\": 0, \"total\": 40\n",
      "{\"success\": 40, \"failed\": 0, \"total\": 40\n"
     ]
    }
   ],
   "source": [
    "import requests\n",
    "\n",
    "# config =  [\n",
    "#     {\n",
    "#         \"execution_path\":\"compressor:convert_ms_to_rgb\",\n",
    "#         \"params\":{\n",
    "#             \"input_path\":\"/Users/yashpulse/Library/CloudStorage/OneDrive-SwinburneUniversity/Semester 4/TAP/CH1/api/data/dataset/PocImages/PocImages\",\n",
    "#             \"output_folder\":\"/Users/yashpulse/Library/CloudStorage/OneDrive-SwinburneUniversity/Semester 4/TAP/CH1/api/data/dataset/RGBImages\"\n",
    "#         }\n",
    "#     }\n",
    "# ]\n",
    "\n",
    "config = [\n",
    "    {\n",
    "        \"execution_path\":\"compressor:compress_jpeg\",\n",
    "        \"params\":{\n",
    "            \"input_path\":\"/Users/yashpulse/Library/CloudStorage/OneDrive-SwinburneUniversity/Semester 4/TAP/CH1/api/data/dataset/RGBImages\",\n",
    "            \"output_folder\":\"/Users/yashpulse/Library/CloudStorage/OneDrive-SwinburneUniversity/Semester 4/TAP/CH1/api/data/dataset/ImagesCompressed1\",\n",
    "            \"quality\":70\n",
    "        },\n",
    "    },\n",
    "    {\n",
    "        \"execution_path\":\"decompressor:decompress_jpeg\",\n",
    "        \"params\":{\n",
    "            \"input_path\":\"/Users/yashpulse/Library/CloudStorage/OneDrive-SwinburneUniversity/Semester 4/TAP/CH1/api/data/dataset/ImagesCompressed1\",\n",
    "            \"output_folder\":\"/Users/yashpulse/Library/CloudStorage/OneDrive-SwinburneUniversity/Semester 4/TAP/CH1/api/data/dataset/ImagesDeCompressed1\",\n",
    "        },\n",
    "    } \n",
    "]\n",
    "\n",
    "with requests.post(\"http://0.0.0.0:8000/run_pipeline?run_id=2\", json=config,stream=True) as response:\n",
    "    # Check if the request was successful\n",
    "    if response.status_code == 200:\n",
    "        for line in response.iter_lines(delimiter=b'}', decode_unicode=True):\n",
    "            if line:  # filter out keep-alive new lines\n",
    "                # Process each line of the response\n",
    "                print(line.decode('utf-8'))  # Decode bytes to string\n",
    "    else:\n",
    "        print(f\"Error: {response.status_code}, {response.text}\")"
   ]
  }
 ],
 "metadata": {
  "kernelspec": {
   "display_name": ".venv",
   "language": "python",
   "name": "python3"
  },
  "language_info": {
   "codemirror_mode": {
    "name": "ipython",
    "version": 3
   },
   "file_extension": ".py",
   "mimetype": "text/x-python",
   "name": "python",
   "nbconvert_exporter": "python",
   "pygments_lexer": "ipython3",
   "version": "3.12.2"
  }
 },
 "nbformat": 4,
 "nbformat_minor": 2
}
