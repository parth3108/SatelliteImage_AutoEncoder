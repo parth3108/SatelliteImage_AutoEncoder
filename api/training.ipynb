{
 "cells": [
  {
   "cell_type": "code",
   "execution_count": 3,
   "metadata": {},
   "outputs": [],
   "source": [
    "import numpy as np\n",
    "import tensorflow as tf\n",
    "from tensorflow import keras\n",
    "from tensorflow.keras import layers\n",
    "\n",
    "# Load the data\n",
    "(x_train, y_train), (x_test, y_test) = keras.datasets.load_dir(\"dataset\")\n"
   ]
  },
  {
   "cell_type": "code",
   "execution_count": 4,
   "metadata": {},
   "outputs": [],
   "source": [
    "# Define the dimensions of the input image\n",
    "input_shape = (1300, 1300, 3)\n",
    "\n",
    "# Encoder\n",
    "encoder_input = layers.Input(shape=input_shape)\n",
    "x = layers.Conv2D(32, (3, 3), activation='relu', padding='same')(encoder_input)\n",
    "x = layers.MaxPooling2D((2, 2), padding='same')(x)\n",
    "x = layers.Conv2D(16, (3, 3), activation='relu', padding='same')(x)\n",
    "x = layers.MaxPooling2D((2, 2), padding='same')(x)\n",
    "x = layers.Conv2D(8, (3, 3), activation='relu', padding='same')(x)\n",
    "encoded = layers.MaxPooling2D((2, 2), padding='same')(x)\n",
    "\n",
    "# Decoder\n",
    "x = layers.Conv2D(8, (3, 3), activation='relu', padding='same')(encoded)\n",
    "x = layers.UpSampling2D((2, 2))(x)\n",
    "x = layers.Conv2D(16, (3, 3), activation='relu', padding='same')(x)\n",
    "x = layers.UpSampling2D((2, 2))(x)\n",
    "x = layers.Conv2D(32, (3, 3), activation='relu', padding='same')(x)\n",
    "x = layers.UpSampling2D((2, 2))(x)\n",
    "decoder_output = layers.Conv2D(3, (3, 3), activation='sigmoid', padding='same')(x)\n",
    "\n",
    "# Create the autoencoder model\n",
    "autoencoder = keras.Model(encoder_input, decoder_output)\n",
    "\n",
    "# Compile the model\n",
    "autoencoder.compile(optimizer='adam', loss='mean_squared_error')\n",
    "# fit the model with early stopping\n",
    "early_stopping = keras.callbacks.EarlyStopping(monitor='val_loss', patience=5)\n",
    "autoencoder.fit(x_train, x_train, epochs=100, batch_size=128, shuffle=True, validation_data=(x_test, x_test), callbacks=[early_stopping])\n"
   ]
  },
  {
   "cell_type": "code",
   "execution_count": 5,
   "metadata": {},
   "outputs": [],
   "source": [
    "\n",
    "# Saving entire autoencoder model\n",
    "autoencoder.save('autoencoder.h5')\n",
    "\n",
    "# Saving encoder models so that we can use it to compress the images\n",
    "encoder_input.save('encoder_input.h5')\n",
    "\n",
    "# Saving decoder models so that we can use it to decompress the images\n",
    "decoder_output.save('decoder_output.h5')"
   ]
  },
  {
   "cell_type": "code",
   "execution_count": 8,
   "metadata": {},
   "outputs": [
    {
     "name": "stdout",
     "output_type": "stream",
     "text": [
      "(40, 1300, 1300, 3)\n",
      "(40, 1300, 1300, 3)\n"
     ]
    }
   ],
   "source": [
    "folder_path = 'data/dataset/NoisyImages'\n",
    "folder_path_2 = 'data/dataset/ProcessedImages'\n",
    "import os\n",
    "from PIL import Image\n",
    "\n",
    "# Initialize an empty list to hold the images\n",
    "images = []\n",
    "\n",
    "# Loop through each file in the folder\n",
    "for filename in os.listdir(folder_path):\n",
    "    if filename.endswith('.tif'):  # You can add more formats if needed\n",
    "        img_path = os.path.join(folder_path, filename)\n",
    "        # Open and resize the image\n",
    "        with Image.open(img_path) as img:\n",
    "            img = img.resize((1300, 1300))  # Resize to 1300x1300\n",
    "            img_array = np.array(img)  # Convert to NumPy array\n",
    "            images.append(img_array)  # Add the image to the list\n",
    "\n",
    "# Convert the list of images to a NumPy array\n",
    "x_train = np.array(images)\n",
    "\n",
    "images_2 = []\n",
    "\n",
    "for filename in os.listdir(folder_path_2):\n",
    "    if filename.endswith('.tif'):  # You can add more formats if needed\n",
    "        img_path = os.path.join(folder_path_2, filename)\n",
    "        # Open and resize the image\n",
    "        with Image.open(img_path) as img:\n",
    "            img = img.resize((1300, 1300))  # Resize to 1300x1300\n",
    "            img_array = np.array(img)  # Convert to NumPy array\n",
    "            images_2.append(img_array)  # Add the image to the list\n",
    "\n",
    "# Convert the list of images to a NumPy array\n",
    "x_train = np.array(images)\n",
    "y_train = np.array(images_2)\n",
    "\n",
    "# Check the shape of the resulting array\n",
    "print(x_train.shape)\n",
    "print(y_train.shape)"
   ]
  }
 ],
 "metadata": {
  "kernelspec": {
   "display_name": "venv",
   "language": "python",
   "name": "python3"
  },
  "language_info": {
   "codemirror_mode": {
    "name": "ipython",
    "version": 3
   },
   "file_extension": ".py",
   "mimetype": "text/x-python",
   "name": "python",
   "nbconvert_exporter": "python",
   "pygments_lexer": "ipython3",
   "version": "3.10.13"
  }
 },
 "nbformat": 4,
 "nbformat_minor": 2
}
