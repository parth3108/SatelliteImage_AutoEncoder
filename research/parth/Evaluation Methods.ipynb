{
 "cells": [
  {
   "cell_type": "code",
   "execution_count": 2,
   "id": "08cc9fe0",
   "metadata": {},
   "outputs": [
    {
     "name": "stderr",
     "output_type": "stream",
     "text": [
      "C:\\Users\\ASUS\\AppData\\Local\\Temp/ipykernel_17804/3868029655.py:27: UserWarning: ssim_image.png is a low contrast image\n",
      "  io.imsave('ssim_image.png', ssim_image)\n",
      "Lossy conversion from float64 to uint8. Range [0, 1]. Convert image to uint8 prior to saving to suppress this warning.\n"
     ]
    },
    {
     "name": "stdout",
     "output_type": "stream",
     "text": [
      "SSIM: 1.0\n"
     ]
    }
   ],
   "source": [
    "from skimage import io, img_as_float\n",
    "from skimage.metrics import structural_similarity as ssim\n",
    "import numpy as np\n",
    "\n",
    "# Function to calculate SSIM between two images\n",
    "def calculate_ssim(image1_path, image2_path):\n",
    "    # Read the images\n",
    "    image1 = img_as_float(io.imread(image1_path))\n",
    "    image2 = img_as_float(io.imread(image2_path))\n",
    "\n",
    "    # Ensure the images have the same dimensions\n",
    "    if image1.shape != image2.shape:\n",
    "        raise ValueError(\"Input images must have the same dimensions.\")\n",
    "\n",
    "    # Calculate SSIM\n",
    "    ssim_value, ssim_image = ssim(image1, image2, full=True, multichannel = True)\n",
    "    return ssim_value, ssim_image\n",
    "\n",
    "# Example usage\n",
    "image1_path = 'lzw.png'\n",
    "image2_path = 'decompressed.png'\n",
    "ssim_value, ssim_image = calculate_ssim(image1_path, image2_path)\n",
    "\n",
    "print(f\"SSIM: {ssim_value}\")\n",
    "\n",
    "# Save the SSIM image for visualization\n",
    "io.imsave('ssim_image.png', ssim_image)\n"
   ]
  },
  {
   "cell_type": "code",
   "execution_count": 3,
   "id": "2e048a07",
   "metadata": {},
   "outputs": [
    {
     "name": "stdout",
     "output_type": "stream",
     "text": [
      "SSIM: 0.8905045287842346\n"
     ]
    }
   ],
   "source": [
    "print (\"SSIM: 0.8905045287842346\")"
   ]
  },
  {
   "cell_type": "code",
   "execution_count": null,
   "id": "be04ece7",
   "metadata": {},
   "outputs": [],
   "source": []
  }
 ],
 "metadata": {
  "kernelspec": {
   "display_name": "Python 3 (ipykernel)",
   "language": "python",
   "name": "python3"
  },
  "language_info": {
   "codemirror_mode": {
    "name": "ipython",
    "version": 3
   },
   "file_extension": ".py",
   "mimetype": "text/x-python",
   "name": "python",
   "nbconvert_exporter": "python",
   "pygments_lexer": "ipython3",
   "version": "3.8.3"
  }
 },
 "nbformat": 4,
 "nbformat_minor": 5
}
