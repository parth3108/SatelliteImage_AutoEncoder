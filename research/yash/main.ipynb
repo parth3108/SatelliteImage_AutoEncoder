{
 "cells": [
  {
   "cell_type": "code",
   "execution_count": 1,
   "metadata": {},
   "outputs": [],
   "source": [
    "from library import sateval"
   ]
  },
  {
   "cell_type": "code",
   "execution_count": 2,
   "metadata": {},
   "outputs": [],
   "source": [
    "\n",
    "# current path\n",
    "\n",
    "se = sateval.SatEval(\"dataset\")"
   ]
  },
  {
   "cell_type": "code",
   "execution_count": 5,
   "metadata": {},
   "outputs": [
    {
     "name": "stderr",
     "output_type": "stream",
     "text": [
      "/Users/yashpulse/.pyenv/versions/3.10.3/lib/python3.10/site-packages/urllib3/connectionpool.py:1103: InsecureRequestWarning: Unverified HTTPS request is being made to host 'madm.dfki.de'. Adding certificate verification is strongly advised. See: https://urllib3.readthedocs.io/en/latest/advanced-usage.html#tls-warnings\n",
      "  warnings.warn(\n",
      "eurosat.zip: 100%|██████████| 89.9M/89.9M [01:44<00:00, 905kB/s] \n"
     ]
    }
   ],
   "source": [
    "# Sample dataset for eurosat https://madm.dfki.de/files/sentinel/EuroSAT.zip\n",
    "\n",
    "se.dataset_loader.load_by_url(\"https://madm.dfki.de/files/sentinel/EuroSAT.zip\", \"eurosat.zip\")"
   ]
  },
  {
   "cell_type": "code",
   "execution_count": 3,
   "metadata": {},
   "outputs": [
    {
     "data": {
      "text/plain": [
       "{'execution_path': 'dataset_loader:load_by_url', 'params': {'key': 'value'}}"
      ]
     },
     "execution_count": 3,
     "metadata": {},
     "output_type": "execute_result"
    }
   ],
   "source": [
    "se.configurables.get_config_template()"
   ]
  },
  {
   "cell_type": "code",
   "execution_count": 4,
   "metadata": {},
   "outputs": [
    {
     "data": {
      "text/plain": [
       "[{'execution_path': 'dataset_loader:load_by_url', 'params': {'key': 'value'}}]"
      ]
     },
     "execution_count": 4,
     "metadata": {},
     "output_type": "execute_result"
    }
   ],
   "source": [
    "se.configurables.get_pipeline_config_template()"
   ]
  },
  {
   "cell_type": "code",
   "execution_count": 8,
   "metadata": {},
   "outputs": [],
   "source": [
    "# sample path to download dataset based on pipeline configuration\n",
    "# config = [\n",
    "#     {\n",
    "#         \"execution_path\":\"dataset_loader:load_by_url\",\n",
    "#         \"params\":{\n",
    "#             \"url\":\"https://madm.dfki.de/files/sentinel/EuroSAT.zip\",\n",
    "#             \"file_name\":\"eurosat_test.zip\"\n",
    "#         },\n",
    "#     },\n",
    "#     {\n",
    "#         \"execution_path\":\"dataset_loader:unzip_file\",\n",
    "#         \"params\":{\n",
    "#             \"file_name\":\"eurosat_test_extracted\"\n",
    "#         },\n",
    "#     },\n",
    "#     {\n",
    "#         \"execution_path\":\"dataset_loader:comprees\",\n",
    "#         \"params\":{\n",
    "#             \"file_name\":\"eurosat_test_extracted\"\n",
    "#         },\n",
    "#     },\n",
    "# ]\n",
    "\n",
    "# sample path to download dataset based on pipeline configuration\n",
    "config = [\n",
    "    {\n",
    "        \"execution_path\":\"dataset_loader:unzip_file\",\n",
    "        \"params\":{\n",
    "            \"file_name\":\"eurosat_test.zip\"\n",
    "        },\n",
    "    }\n",
    "]"
   ]
  },
  {
   "cell_type": "code",
   "execution_count": 6,
   "metadata": {},
   "outputs": [
    {
     "data": {
      "text/plain": [
       "True"
      ]
     },
     "execution_count": 6,
     "metadata": {},
     "output_type": "execute_result"
    }
   ],
   "source": [
    "se.configurables.validate_pipeline_config(config)"
   ]
  },
  {
   "cell_type": "code",
   "execution_count": 13,
   "metadata": {},
   "outputs": [
    {
     "data": {
      "text/plain": [
       "True"
      ]
     },
     "execution_count": 13,
     "metadata": {},
     "output_type": "execute_result"
    }
   ],
   "source": [
    "se.configurables.validate_config(config[0])"
   ]
  },
  {
   "cell_type": "code",
   "execution_count": 9,
   "metadata": {},
   "outputs": [
    {
     "name": "stdout",
     "output_type": "stream",
     "text": [
      "Unzipped eurosat_test.zip\n"
     ]
    }
   ],
   "source": [
    "se.configurables.run(config=config,clf=se)"
   ]
  }
 ],
 "metadata": {
  "kernelspec": {
   "display_name": "Python 3",
   "language": "python",
   "name": "python3"
  },
  "language_info": {
   "codemirror_mode": {
    "name": "ipython",
    "version": 3
   },
   "file_extension": ".py",
   "mimetype": "text/x-python",
   "name": "python",
   "nbconvert_exporter": "python",
   "pygments_lexer": "ipython3",
   "version": "3.10.3"
  }
 },
 "nbformat": 4,
 "nbformat_minor": 2
}
